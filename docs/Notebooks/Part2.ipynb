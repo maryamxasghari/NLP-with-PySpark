{
 "cells": [
  {
   "cell_type": "markdown",
   "id": "73eee33f-7188-4e52-a88a-6cbbc8ece24e",
   "metadata": {},
   "source": [
    "<p align=\"center\">\n",
    "  <img align=\"center\" width=\"130\" height=\"80\" src=\"https://upload.wikimedia.org/wikipedia/commons/3/31/Boston_University_wordmark.svg\">\n",
    "</p>\n",
    "\n",
    "<h5 align=\"center\">MET CS 777 - Big Data Analytics</h5>\n",
    "<h6 align=\"center\">Fall 2021</h6>\n",
    "\n",
    "<h2 align=\"center\"> Natural Language Processing with pyspark </h2>\n",
    "<h2 align=\"center\"> Disaster Tweets classification </h2>\n",
    "\n",
    "<h3 align=\"center\"> Part 2 </h3>"
   ]
  },
  {
   "cell_type": "code",
   "execution_count": 1,
   "id": "e004c7ac-5c41-4c9d-8cf1-d35d1efc2724",
   "metadata": {},
   "outputs": [],
   "source": [
    "from utils.plots import *\n",
    "from utils.prep_ml import *\n",
    "from utils.prep_rdd import *\n",
    "from utils.nn_func import *"
   ]
  },
  {
   "cell_type": "markdown",
   "id": "b9bb7fb0-2560-4b1f-bef3-744ace1e7cad",
   "metadata": {},
   "source": [
    "## Reading the data and create RDD"
   ]
  },
  {
   "cell_type": "code",
   "execution_count": 4,
   "id": "b1e5abe7-bd3e-46b0-84ad-5146fcda4aa0",
   "metadata": {},
   "outputs": [],
   "source": [
    "tweet = pd.read_csv('./nlp-getting-started/train.csv')\n",
    "tweet= tweet[['id','text','target']]\n",
    "\n",
    "from pyspark import SparkConf,SparkContext\n",
    "from pyspark.sql import SQLContext\n",
    "from pyspark.sql.types import StructType,StructField, StringType, IntegerType ,ArrayType\n",
    "from pyspark.sql import SparkSession\n",
    "\n",
    "sc = SparkContext.getOrCreate()\n",
    "sqlContext = SQLContext(sc)\n",
    "spark = SparkSession.builder.appName('tweet').getOrCreate()\n",
    "\n",
    "\n",
    "#Custom Schema using StructType\n",
    "mySchema = StructType([ StructField(\"id\", StringType(), True)\\\n",
    "                       ,StructField(\"text\", StringType(), True)\\\n",
    "                       ,StructField(\"class\", StringType(), True)])\n",
    "\n",
    "sparkDF=spark.createDataFrame(tweet, mySchema) \n",
    "small_df = sparkDF.select('id','text','class')\n",
    "RDD = small_df.rdd\n",
    "RDD = RDD.map(lambda x: (x[0],x[2],x[1]))\n",
    "numberOftweets = RDD.count()\n",
    "keyAndListOfWords =  RDD.map(lambda x : (x[0],x[1],word_tokenizer(x[2]) ))\n",
    "disaster = keyAndListOfWords.filter(lambda x : x[1] =='1')"
   ]
  },
  {
   "cell_type": "markdown",
   "id": "2cd4160e-6d3c-41f8-a2dc-e2702682df2e",
   "metadata": {},
   "source": [
    "## Preprocessing  \n",
    "* Dictionary of top 1000 words from disaster tweets\n",
    "* TF_idf\n",
    "* Split into train and test "
   ]
  },
  {
   "cell_type": "code",
   "execution_count": 7,
   "id": "6a11e24f-cc84-4b81-bc04-6c47ec3f20fb",
   "metadata": {},
   "outputs": [],
   "source": [
    "def get_dict(keyAndListOfWords):\n",
    "    \"\"\"make a 1000 words dictionary\"\"\"\n",
    "    allWords = keyAndListOfWords.flatMap(lambda x: (x[2])).map(lambda x: (x, 1))\n",
    "    allCounts = allWords.reduceByKey(lambda x,y: x + y) # I will use lambda instead of add maybe it would be faster in spark \n",
    "    topWords = allCounts.top(1000, key= lambda x: x[1])\n",
    "    topWordsK = sc.parallelize(range(1000))\n",
    "    dictionary = topWordsK.map(lambda x : (topWords[x][0], x))\n",
    "    return dictionary\n",
    "\n",
    "disaster_dictionary = get_dict(disaster)\n",
    "allDocsWithLabel = get_tfArray(keyAndListOfWords,disaster_dictionary )\n",
    "tf_idfArray = get_tf_idfArray(allDocsWithLabel, numberOftweets)\n",
    "training, testing = tf_idfArray.randomSplit([0.8, 0.2], seed=123)"
   ]
  },
  {
   "cell_type": "code",
   "execution_count": null,
   "id": "ca8af1a8-b0aa-4906-a966-7d8902f16042",
   "metadata": {
    "tags": []
   },
   "outputs": [],
   "source": [
    "training.take(1)"
   ]
  },
  {
   "cell_type": "markdown",
   "id": "e16e71cb-f7ab-49c6-b7d0-ba647c64df9c",
   "metadata": {},
   "source": [
    "## One hot endoding \n",
    "labels:   \n",
    "- 1 -> array([0, 1])\n",
    "- 0 -> array([1, 0])"
   ]
  },
  {
   "cell_type": "code",
   "execution_count": 13,
   "id": "b7993967-acfe-4416-9ef9-5c68ec94a670",
   "metadata": {
    "tags": []
   },
   "outputs": [
    {
     "data": {
      "text/plain": [
       "array([0, 1])"
      ]
     },
     "execution_count": 13,
     "metadata": {},
     "output_type": "execute_result"
    }
   ],
   "source": [
    "step1 = training.map(lambda x: (x[1],x[2])).map(lambda x: (onehotlabel(x[0]), x[1] ))\n",
    "step1.take(1)[0][0]"
   ]
  },
  {
   "cell_type": "markdown",
   "id": "e98637a7-1925-41d7-aa90-c0eff8cfa026",
   "metadata": {},
   "source": [
    "## Feed forward \n",
    "### Output of First layer \n",
    "### $  \\hat{H} = X w1 + b1$\n",
    "```python\n",
    "    def forward(x,w,b):\n",
    "        return np.dot(x, w) + b\n",
    "```\n",
    "### Leaky ReLU \n",
    "\n",
    "### $f(x) = 0.01x   for x<0$\n",
    "\n",
    "### $f(x) = x      for x >= 0$\n",
    "\n",
    "```python\n",
    "    def Lrelu(x):\n",
    "        return np.where(x >= 0, x, x*0.01)\n",
    "```\n",
    "### $ H = f{\\hat{H}} =  f{(X . w1 + b1)}$\n",
    "\n",
    "### Output of hidden layer \n",
    "### $ \\hat{Y}  =  H . w2 + b2$\n",
    "\n",
    "### Sigmoid\n",
    "\n",
    "### $ \\sigma{(x)} = \\frac {1}{1 + e^{-x} } $\n",
    "\n",
    "```python\n",
    "    def sigmoid(x):\n",
    "        return 1 / (1 + np.exp(-x))\n",
    "```\n",
    "\n",
    "### $  Y  = \\sigma{(\\hat{Y})}  = \\sigma{(f(\\hat{H}) w2 + b2)} =  \\sigma{( f(X . w1 + b1). w2 + b2)}  $"
   ]
  },
  {
   "cell_type": "markdown",
   "id": "41e650ea-dd50-4471-833e-333f320a18f9",
   "metadata": {},
   "source": [
    "## Initialization"
   ]
  },
  {
   "cell_type": "code",
   "execution_count": 137,
   "id": "4736dbf9-5a0f-49c8-b98a-8a3a2d087f12",
   "metadata": {},
   "outputs": [],
   "source": [
    "w1 =np.random.uniform(low = -0.5 , high = 0.5 , size = (1000,128))  \n",
    "w2 =np.random.uniform(low = -0.5 , high = 0.5 , size = (128,2)) \n",
    "\n",
    "# w1 =np.random.normal(0 , 0.5, size = (1000,128))\n",
    "# w2 =np.random.normal(0 , 0.5, size = (128,2))\n",
    "\n",
    "b1 =np.random.rand( 1,128)-0.5 \n",
    "b2 =np.random.rand(1,2)-0.5\n"
   ]
  },
  {
   "cell_type": "markdown",
   "id": "383bef46-1f1d-4b2b-92dd-948b869b5a35",
   "metadata": {},
   "source": [
    "## Feed Forward"
   ]
  },
  {
   "cell_type": "code",
   "execution_count": null,
   "id": "39740ebd-bc95-491d-b1f4-798958d59d4e",
   "metadata": {
    "scrolled": true,
    "tags": []
   },
   "outputs": [],
   "source": [
    "step1.map(lambda x: (x[0],x[1],forward(x[1],w1,b1))).\\\n",
    "map(lambda x: (x[0],x[1], x[2], Lrelu(x[2]))).take(1)[0][-1]"
   ]
  },
  {
   "cell_type": "code",
   "execution_count": 35,
   "id": "e6aca896-e353-4281-900e-00ce424ec019",
   "metadata": {},
   "outputs": [
    {
     "data": {
      "text/plain": [
       "array([[0.58179413, 0.6794797 ]])"
      ]
     },
     "execution_count": 35,
     "metadata": {},
     "output_type": "execute_result"
    }
   ],
   "source": [
    "fforward = step1.map(lambda x: (x[0],x[1],forward(x[1],w1,b1)))\\\n",
    "        .map(lambda x: (x[0],x[1], x[2], Lrelu(x[2])))\\\n",
    "        .map(lambda x: (x[0],x[1], x[2] ,x[3], forward(x[3],w2,b2)))\\\n",
    "        .map(lambda x: (x[0],x[1], x[2] ,x[3], x[4], sigmoid(x[4])))\n",
    "fforward.take(1)[0][-1]"
   ]
  },
  {
   "cell_type": "markdown",
   "id": "2f0305aa-6909-4852-bad5-64b9ffe6a22c",
   "metadata": {},
   "source": [
    "### Cost Function\n",
    "\n",
    "### $ SSE =  \\frac {1}{2} \\sum (\\hat{y_i} - y_i)^{2}$\n",
    "\n",
    "```python\n",
    "    def cost(y_hat, y):\n",
    "        return 0.5 * np.sum(np.power(y_hat - y, 2)) \n",
    "```"
   ]
  },
  {
   "cell_type": "code",
   "execution_count": 39,
   "id": "86be2892-06a8-41cd-b21f-ee2a6bd5fe42",
   "metadata": {},
   "outputs": [
    {
     "data": {
      "text/plain": [
       "(array([0, 1]), array([[0.58179413, 0.6794797 ]]))"
      ]
     },
     "execution_count": 39,
     "metadata": {},
     "output_type": "execute_result"
    }
   ],
   "source": [
    "fforward.take(1)[0][0] , fforward.take(1)[0][5]"
   ]
  },
  {
   "cell_type": "code",
   "execution_count": 43,
   "id": "7cdd3308-6057-40b8-bc97-0ffeac12fa46",
   "metadata": {},
   "outputs": [
    {
     "data": {
      "text/plain": [
       "0.22060883421358363"
      ]
     },
     "execution_count": 43,
     "metadata": {},
     "output_type": "execute_result"
    }
   ],
   "source": [
    "cost_ = fforward.map(lambda x: (x[0],x[1], x[2] ,x[3], x[4], x[5] ,cost(x[5], x[0])))\n",
    "cost_.take(1)[0][-1]"
   ]
  },
  {
   "cell_type": "markdown",
   "id": "fe0d280e-0973-4a41-a231-cb9c40cb1ced",
   "metadata": {},
   "source": [
    "### Back propagation \n",
    "### $ E =  \\frac {1}{2} \\sum (\\hat{y_i} - y_i)^{2} $\n",
    "\n",
    "\n",
    "\n",
    "### $ \\frac {\\partial E}{\\partial B_2} = (Y - y) * f^{'}(\\hat{Y}) $\n",
    "\n",
    "```python\n",
    "    def dEB2(y_pred, y_true, y_h):\n",
    "        return (y_pred - y_true) * der_sigmoid(y_h)\n",
    "    \n",
    "    def der_sigmoid(x):\n",
    "    sigm = 1 / (1 + np.exp(-x))\n",
    "    return sigm *(1- sigm)\n",
    "\n",
    "```\n",
    "\n",
    "### $ \\frac {\\partial E}{\\partial w_2} = H^{t}. \\frac {\\partial E}{\\partial B_2} $\n",
    "\n",
    "\n",
    "```python\n",
    "    def dEW2(h, dB2):\n",
    "        return np.dot(h.T, dB2)\n",
    "```\n",
    "\n",
    "### $ \\frac {\\partial E}{\\partial b_1} = ( \\frac {\\partial E}{\\partial B_2} . w_2^{t} ) * f^{'}(\\hat{H}) $\n",
    "\n",
    "```python\n",
    "    def dEB1(h_h, dB2, W2):\n",
    "        return np.dot(dB2, W2.T) * der_Lrelu(h_h)\n",
    "    \n",
    "    def der_Lrelu(x):\n",
    "    return np.where(x >= 0, 1, 0.01)\n",
    "```\n",
    "\n",
    "### $ \\frac {\\partial E}{\\partial w_1} = X^{t}. \\frac {\\partial E}{\\partial B_1} $\n",
    "\n",
    "```python\n",
    "    def dEW1(x, dB1):\n",
    "        return np.dot(x.T, dB1)\n",
    "```\n",
    "\n",
    "[Refrence](https://medium.com/swlh/mathematics-behind-basic-feed-forward-neural-network-3-layers-python-from-scratch-df88085c8049)"
   ]
  },
  {
   "cell_type": "code",
   "execution_count": 45,
   "id": "99f4957c-dbbf-4188-9dcd-fd855e7b9338",
   "metadata": {},
   "outputs": [],
   "source": [
    "Cost_grad = cost_.map(lambda x: (x[0],x[1], x[2] ,x[3], x[6], dEB2(x[5], x[0] , x[4])))\\\n",
    "        .map(lambda x: (x[1],x[2], x[4], x[5], dEW2(x[3], x[5])))\\\n",
    "        .map(lambda x: (x[0],x[2], x[3], x[4], dEB1(x[1], x[3], w2 )))\\\n",
    "        .map(lambda x: (x[1], x[2],x[3],x[4], dEW1(x[1], x[4] )))\\\n",
    "        .reduce(lambda x,y : (x[0]+y[0],x[1]+y[1],x[2]+y[2],x[3]+y[3],x[4]+y[4] ))"
   ]
  },
  {
   "cell_type": "code",
   "execution_count": 48,
   "id": "a4b40cd9-9bf7-485e-8b9c-7002bfbf41f6",
   "metadata": {},
   "outputs": [
    {
     "data": {
      "text/plain": [
       "0.3104180375858475"
      ]
     },
     "execution_count": 48,
     "metadata": {},
     "output_type": "execute_result"
    }
   ],
   "source": [
    "Cost ,DB2,DW2,DB1,DW1 = Cost_grad\n",
    "n = training.count()\n",
    "Cost/n"
   ]
  },
  {
   "cell_type": "markdown",
   "id": "fad005b8-bb57-43f2-b2f5-13501d2028be",
   "metadata": {},
   "source": [
    "## Optimization \n",
    "* Stochastic Gradient Descent (SGD)\n",
    "* Adam\n"
   ]
  },
  {
   "cell_type": "markdown",
   "id": "82c57702-eff6-4575-9388-092abd2d8f64",
   "metadata": {},
   "source": [
    "### Stochastic Gradient Descent (SGD)\n",
    "### $ w1 = w1 - \\alpha \\frac {\\partial E}{\\partial w_1}  $\n",
    "```python\n",
    "w1 = w1 - learning_rate * DW1\n",
    "```\n",
    "### $ b1 = b1 - \\alpha \\frac {\\partial E}{\\partial b_1}  $\n",
    "\n",
    "```python\n",
    "b1 = b1 - learning_rate * DB1\n",
    "```\n",
    "\n",
    "### $ w2 = w2 - \\alpha \\frac {\\partial E}{\\partial w_2}  $\n",
    "\n",
    "```python\n",
    "w2 = w2 - learning_rate * DW2\n",
    "```\n",
    "### $ b2 = b2 - \\alpha \\frac {\\partial E}{\\partial b_2}  $\n",
    "```python\n",
    "b2 = b2 - learning_rate * DB2\n",
    "```\n"
   ]
  },
  {
   "cell_type": "code",
   "execution_count": 69,
   "id": "4c5a69c5-9a93-4a01-8186-168f3675078d",
   "metadata": {
    "tags": []
   },
   "outputs": [
    {
     "name": "stdout",
     "output_type": "stream",
     "text": [
      "Iteration No. 0  Cost= 0.306776198561861\n",
      "Iteration No. 20  Cost= 0.3062189725703716\n",
      "Iteration No. 40  Cost= 0.3048014352543782\n",
      "Iteration No. 60  Cost= 0.3011358093522843\n",
      "Iteration No. 80  Cost= 0.2921947390369777\n",
      "Iteration No. 100  Cost= 0.27435039921395726\n",
      "Iteration No. 120  Cost= 0.2567849494194076\n",
      "Iteration No. 140  Cost= 0.24664828529544794\n",
      "Iteration No. 160  Cost= 0.22892086547963683\n",
      "Iteration No. 180  Cost= 0.20377621208753996\n",
      "Iteration No. 200  Cost= 0.19141437747209986\n",
      "Iteration No. 220  Cost= 0.1889721161623347\n",
      "Iteration No. 240  Cost= 0.1880553239369242\n",
      "Iteration No. 260  Cost= 0.1880050627790661\n",
      "Iteration No. 280  Cost= 0.18800506619072244\n"
     ]
    }
   ],
   "source": [
    "cost_array , w1, b1, w2, b2 = learning(num_iteration = 300 ,\\\n",
    "             data = training ,\\\n",
    "             learning_rate = 0.001 ,\\\n",
    "             optimizer = 'SGD', reg = False )"
   ]
  },
  {
   "cell_type": "markdown",
   "id": "37f22cc4-5c24-4fe6-ae09-2485d6a4388b",
   "metadata": {},
   "source": [
    "### Cost vs. Iteration"
   ]
  },
  {
   "cell_type": "code",
   "execution_count": 70,
   "id": "cf5a69f6-7949-4b3e-a93d-6d9306e7ed7e",
   "metadata": {},
   "outputs": [
    {
     "data": {
      "image/png": "[encoded data removed]",
      "text/plain": [
       "<Figure size 432x288 with 1 Axes>"
      ]
     },
     "metadata": {
      "needs_background": "light"
     },
     "output_type": "display_data"
    }
   ],
   "source": [
    "plot_cost(cost_array)"
   ]
  },
  {
   "cell_type": "markdown",
   "id": "e534292a-c5f7-4329-aad1-a7615ada249b",
   "metadata": {},
   "source": [
    "## Prediction"
   ]
  },
  {
   "cell_type": "code",
   "execution_count": 71,
   "id": "9cf2cf1a-0f72-4559-8c3e-137c2887ea82",
   "metadata": {},
   "outputs": [],
   "source": [
    "test_pred = testing.map(lambda x: (x[0],int(x[1]),predict(x[2], w1, b1, w2, b2) ))"
   ]
  },
  {
   "cell_type": "code",
   "execution_count": 73,
   "id": "bc53607c-b0f4-4594-a270-35bf997f98ef",
   "metadata": {},
   "outputs": [
    {
     "data": {
      "text/plain": [
       "[('2608', 1, 1),\n",
       " ('2765', 0, 1),\n",
       " ('3776', 0, 0),\n",
       " ('6048', 1, 1),\n",
       " ('9846', 0, 1),\n",
       " ('3415', 1, 1),\n",
       " ('6881', 1, 1),\n",
       " ('6375', 1, 1),\n",
       " ('1141', 0, 0),\n",
       " ('8311', 1, 1)]"
      ]
     },
     "execution_count": 73,
     "metadata": {},
     "output_type": "execute_result"
    }
   ],
   "source": [
    "test_pred.take(10)"
   ]
  },
  {
   "cell_type": "code",
   "execution_count": 77,
   "id": "bf7fe402-c834-4fe9-8b00-7be914520943",
   "metadata": {},
   "outputs": [
    {
     "name": "stdout",
     "output_type": "stream",
     "text": [
      "\n",
      "============== Results: ==============\n",
      "\n",
      "Accuracy of model was: %71.72\n",
      "\n",
      "f1 score of model was: %66.45\n",
      "\n"
     ]
    }
   ],
   "source": [
    "print_result(test_pred)   "
   ]
  },
  {
   "cell_type": "code",
   "execution_count": 138,
   "id": "f0e31da7-13ce-4863-a4ee-5e914994087c",
   "metadata": {
    "tags": []
   },
   "outputs": [
    {
     "name": "stdout",
     "output_type": "stream",
     "text": [
      "Iteration No. 0  Cost= 0.3294430147978769\n",
      "Iteration No. 20  Cost= 0.3289184328993127\n",
      "Iteration No. 40  Cost= 0.3275728687239728\n",
      "Iteration No. 60  Cost= 0.32402059967486013\n",
      "Iteration No. 80  Cost= 0.31478158054027594\n",
      "Iteration No. 100  Cost= 0.2927526064126302\n",
      "Iteration No. 120  Cost= 0.2606526162597964\n",
      "Iteration No. 140  Cost= 0.24788184918559245\n",
      "Iteration No. 160  Cost= 0.23335265414683115\n",
      "Iteration No. 180  Cost= 0.21098634406489025\n",
      "Iteration No. 200  Cost= 0.20892205980718687\n",
      "Iteration No. 220  Cost= 0.1939377377340866\n",
      "Iteration No. 240  Cost= 0.19209407149521612\n",
      "Iteration No. 260  Cost= 0.1909647096881084\n",
      "Iteration No. 280  Cost= 0.19041035638602274\n"
     ]
    }
   ],
   "source": [
    "w1 =np.random.normal(0 , 0.5, size = (1000,128))\n",
    "w2 =np.random.normal(0 , 0.5, size = (128,2))\n",
    "\n",
    "b1 =np.random.rand( 1,128)-0.5 \n",
    "b2 =np.random.rand(1,2)-0.5\n",
    "\n",
    "cost_array , w1, b1, w2, b2 = learning(num_iteration = 300 ,\\\n",
    "             data = training ,\\\n",
    "             learning_rate = 0.001 ,\\\n",
    "             optimizer = 'SGD', reg = False )"
   ]
  },
  {
   "cell_type": "markdown",
   "id": "11c0edb9-5562-4346-8e3a-78222c43c1f2",
   "metadata": {},
   "source": [
    "### Cost vs. Iteration"
   ]
  },
  {
   "cell_type": "code",
   "execution_count": 140,
   "id": "1805fe9d-1227-4f1e-b8f9-6923b4d0173a",
   "metadata": {
    "tags": []
   },
   "outputs": [
    {
     "data": {
      "image/png": "[encoded data removed]",
      "text/plain": [
       "<Figure size 432x288 with 1 Axes>"
      ]
     },
     "metadata": {
      "needs_background": "light"
     },
     "output_type": "display_data"
    }
   ],
   "source": [
    "plot_cost(cost_array)"
   ]
  },
  {
   "cell_type": "markdown",
   "id": "200de696-b3da-4fdd-92a6-15d108afd044",
   "metadata": {},
   "source": [
    "## Prediction"
   ]
  },
  {
   "cell_type": "code",
   "execution_count": 139,
   "id": "d9578c9a-b896-4a19-afd3-56b630370ee8",
   "metadata": {},
   "outputs": [
    {
     "name": "stdout",
     "output_type": "stream",
     "text": [
      "\n",
      "============== Results: ==============\n",
      "\n",
      "Accuracy of model was: %71.52\n",
      "\n",
      "f1 score of model was: %65.74\n",
      "\n"
     ]
    }
   ],
   "source": [
    "test_pred = testing.map(lambda x: (x[0],int(x[1]),predict(x[2], w1, b1, w2, b2) ))\n",
    "print_result(test_pred) "
   ]
  },
  {
   "cell_type": "markdown",
   "id": "09b6a251-86f9-4b5d-8e33-e271de1c2f39",
   "metadata": {},
   "source": [
    "## Adam\n",
    "\n",
    "The values of Adam depends on :\n",
    "\n",
    "* $\\beta_{1}$ : 1st order exponential decay for first moment estimates = 0.9  \n",
    "* $\\beta_{2}$ : 2nd order exponential decay for second moment estimates = 0.999\n",
    "\n",
    "On each iteration, we can calculate the moving averages based on these two parameters and gradinat. \n",
    "\n",
    "### $m_{t} = \\beta_{1}m_{t-1}+(1-\\beta_{1})g_{t}$\n",
    "\n",
    "```python\n",
    "    # -- Weights --\n",
    "    m_w = beta1 * m_w + (1 - beta1) *DW\n",
    "    # -- biases --\n",
    "    m_b = beta1 * m_b + (1 - beta1) *DB\n",
    "```\n",
    "\n",
    "### $\\nu_{t} = \\beta_{2} \\nu_{t-1} + (1-\\beta_{2})g^{2}_{t}$\n",
    "\n",
    "```python\n",
    "    # -- Weights --   \n",
    "    v_w = beta2 * v_w + (1 - beta2) * (DW**2)\n",
    "    # -- biases --\n",
    "    v_b = beta2 * v_b + (1 - beta2) * (DB)\n",
    "```\n",
    "\n",
    "Bias correction of the moving averages \n",
    "\n",
    "### $ \\hat{m_{t}} =\\frac{m_{t}}{1-\\beta^{t}_{1}}$\n",
    "\n",
    "### $ \\hat{\\nu_{t}} =\\frac{\\nu_{t}}{1-\\beta^{t}_{2}}$\n",
    "\n",
    "```python\n",
    "    # -- Weights -- \n",
    "    m_w_ = m_w / (1 - beta1**(i + 1))\n",
    "    v_w_ = v_w / (1 - beta2**(i + 1))\n",
    "    # -- biases --\n",
    "    m_b_ = m_b / (1 - beta1**(i + 1))\n",
    "    v_b_ = v_b / (1 - beta2**(i + 1))\n",
    "```\n",
    "\n",
    "Update the parameters (weight and biases) based on the calculated moving averages, step size(learning rate) and a small $\\epsilon$ to prevent zero-division\n",
    "\n",
    "### $w_{t} = w_{t-1} - {\\eta} \\frac{\\hat{m_{t}}}{\\sqrt{\\hat{\\nu_{t}} +\\epsilon}}  $\n",
    "```python\n",
    "    #Update weights\n",
    "    w = w - learning_rate * m_w_ / (np.sqrt(abs(v_w_)) + epsilon)\n",
    "    b = b - learning_rate * m_b_ / (np.sqrt(abs(v_b_)) + epsilon)\n",
    "```\n",
    "\n",
    "[Refrence](https://github.com/kiat/BigDataAnalytics/blob/master/Notebooks/Spark-Example-20-Adam-Sgdm-with-Tree-Aggregate.ipynb)"
   ]
  },
  {
   "cell_type": "code",
   "execution_count": 89,
   "id": "92a12192-2a5c-42f3-bbb3-817247ba3e79",
   "metadata": {
    "tags": []
   },
   "outputs": [
    {
     "name": "stdout",
     "output_type": "stream",
     "text": [
      "Iteration No. 0  Cost= 0.3011003714015695\n",
      "Iteration No. 20  Cost= 0.29720407675192256\n",
      "Iteration No. 40  Cost= 0.2885260478300003\n",
      "Iteration No. 60  Cost= 0.2752245826747596\n",
      "Iteration No. 80  Cost= 0.26369191937510705\n",
      "Iteration No. 100  Cost= 0.23601876825620105\n",
      "Iteration No. 120  Cost= 0.20088837855492986\n",
      "Iteration No. 140  Cost= 0.18841704013035943\n",
      "Iteration No. 160  Cost= 0.18824465655220085\n",
      "Iteration No. 180  Cost= 0.1874776440480502\n",
      "Iteration No. 200  Cost= 0.18684424021219234\n",
      "Iteration No. 220  Cost= 0.1868533910230233\n",
      "Iteration No. 240  Cost= 0.1868533910350835\n",
      "Iteration No. 260  Cost= 0.18685339103508353\n",
      "Iteration No. 280  Cost= 0.18685339103508353\n"
     ]
    }
   ],
   "source": [
    "cost_array , w1, b1, w2, b2 = learning(num_iteration = 300 ,\\\n",
    "             data = training ,\\\n",
    "             learning_rate = 0.001 ,\\\n",
    "             optimizer = 'Adam', reg = False )"
   ]
  },
  {
   "cell_type": "markdown",
   "id": "3a74218c-a11a-48da-b88e-a81ced468e31",
   "metadata": {},
   "source": [
    "## Cost vs. Iteration"
   ]
  },
  {
   "cell_type": "code",
   "execution_count": 93,
   "id": "1b203077-52c4-4554-b44b-ada2eb931054",
   "metadata": {},
   "outputs": [
    {
     "data": {
      "image/png": "[encoded data removed]",
      "text/plain": [
       "<Figure size 432x288 with 1 Axes>"
      ]
     },
     "metadata": {
      "needs_background": "light"
     },
     "output_type": "display_data"
    }
   ],
   "source": [
    "plot_cost(cost_array)"
   ]
  },
  {
   "cell_type": "markdown",
   "id": "d4ee4afc-efb4-4001-b38c-29e78a7f59f8",
   "metadata": {},
   "source": [
    "## Prediction"
   ]
  },
  {
   "cell_type": "code",
   "execution_count": 91,
   "id": "3c44594d-8c4c-42f2-b185-cb0b685bb71a",
   "metadata": {},
   "outputs": [
    {
     "data": {
      "text/plain": [
       "[('2608', 1, 1),\n",
       " ('2765', 0, 1),\n",
       " ('3776', 0, 0),\n",
       " ('6048', 1, 1),\n",
       " ('9846', 0, 1),\n",
       " ('3415', 1, 1),\n",
       " ('6881', 1, 1),\n",
       " ('6375', 1, 1),\n",
       " ('1141', 0, 0),\n",
       " ('8311', 1, 1)]"
      ]
     },
     "execution_count": 91,
     "metadata": {},
     "output_type": "execute_result"
    }
   ],
   "source": [
    "test_pred = testing.map(lambda x: (x[0],int(x[1]),predict(x[2], w1, b1, w2, b2) ))\n",
    "test_pred.take(10)"
   ]
  },
  {
   "cell_type": "code",
   "execution_count": 92,
   "id": "6304f2e1-5a89-42f3-ad4c-6bc0bf1a8bb4",
   "metadata": {},
   "outputs": [
    {
     "name": "stdout",
     "output_type": "stream",
     "text": [
      "\n",
      "============== Results: ==============\n",
      "\n",
      "Accuracy of model was: %71.18\n",
      "\n",
      "f1 score of model was: %65.47\n",
      "\n"
     ]
    }
   ],
   "source": [
    "print_result(test_pred) "
   ]
  },
  {
   "cell_type": "markdown",
   "id": "49fe50c9-a968-4da7-b02d-03124a6bc76a",
   "metadata": {},
   "source": [
    "## More tests "
   ]
  },
  {
   "cell_type": "code",
   "execution_count": 116,
   "id": "e98e0675-f0c1-49c8-a535-1bcfde7110e6",
   "metadata": {
    "tags": []
   },
   "outputs": [
    {
     "name": "stdout",
     "output_type": "stream",
     "text": [
      "Iteration No. 0  Cost= 0.26919794722666074\n",
      "Iteration No. 20  Cost= 0.264050415206717\n",
      "Iteration No. 40  Cost= 0.25437843711129654\n",
      "Iteration No. 60  Cost= 0.23428633360542808\n",
      "Iteration No. 80  Cost= 0.20465764354894028\n",
      "Iteration No. 100  Cost= 0.191138482497972\n",
      "Iteration No. 120  Cost= 0.1885741623738658\n",
      "Iteration No. 140  Cost= 0.1873831345860074\n",
      "Iteration No. 160  Cost= 0.18686277893348907\n",
      "Iteration No. 180  Cost= 0.18683579345499593\n",
      "Iteration No. 200  Cost= 0.18683257758987495\n",
      "Iteration No. 220  Cost= 0.1867874385842726\n",
      "Iteration No. 240  Cost= 0.18668799557245838\n",
      "Iteration No. 260  Cost= 0.18662625168995264\n",
      "Iteration No. 280  Cost= 0.1866272340947867\n"
     ]
    }
   ],
   "source": [
    "SGD_cost_array , w1, b1, w2, b2 = learning(num_iteration = 300 ,\\\n",
    "             data = training ,\\\n",
    "             learning_rate = 0.12 ,\\\n",
    "             optimizer = 'SGD', reg = False )"
   ]
  },
  {
   "cell_type": "code",
   "execution_count": 117,
   "id": "958d28ca-e791-4d12-8d13-adf81ddc9d74",
   "metadata": {},
   "outputs": [
    {
     "data": {
      "image/png": "[encoded data removed]",
      "text/plain": [
       "<Figure size 432x288 with 1 Axes>"
      ]
     },
     "metadata": {
      "needs_background": "light"
     },
     "output_type": "display_data"
    }
   ],
   "source": [
    "plot_cost(SGD_cost_array)"
   ]
  },
  {
   "cell_type": "code",
   "execution_count": 118,
   "id": "4f99290f-6167-4eea-9a82-0af299b6aff9",
   "metadata": {},
   "outputs": [
    {
     "name": "stdout",
     "output_type": "stream",
     "text": [
      "\n",
      "============== Results: ==============\n",
      "\n",
      "Accuracy of model was: %71.31\n",
      "\n",
      "f1 score of model was: %65.97\n",
      "\n"
     ]
    },
    {
     "data": {
      "text/plain": [
       "([('2608', 1, 1),\n",
       "  ('2765', 0, 1),\n",
       "  ('3776', 0, 0),\n",
       "  ('6048', 1, 1),\n",
       "  ('9846', 0, 0),\n",
       "  ('3415', 1, 1),\n",
       "  ('6881', 1, 1),\n",
       "  ('6375', 1, 1),\n",
       "  ('1141', 0, 0),\n",
       "  ('8311', 1, 1)],\n",
       " None)"
      ]
     },
     "execution_count": 118,
     "metadata": {},
     "output_type": "execute_result"
    }
   ],
   "source": [
    "test_pred = testing.map(lambda x: (x[0],int(x[1]),predict(x[2], w1, b1, w2, b2) ))\n",
    "test_pred.take(10), print_result(test_pred)   "
   ]
  },
  {
   "cell_type": "code",
   "execution_count": 132,
   "id": "d236308c-b3bb-4e06-9bd4-3bb1ffa7844b",
   "metadata": {
    "tags": []
   },
   "outputs": [
    {
     "name": "stdout",
     "output_type": "stream",
     "text": [
      "Iteration No. 0  Cost= 0.3466485344991545\n",
      "Iteration No. 20  Cost= 0.2917385757174131\n",
      "Iteration No. 40  Cost= 0.2809644343781877\n",
      "Iteration No. 60  Cost= 0.2794629492722659\n",
      "Iteration No. 80  Cost= 0.27470527751956025\n",
      "Iteration No. 100  Cost= 0.26417563003874245\n",
      "Iteration No. 120  Cost= 0.2396571046446404\n",
      "Iteration No. 140  Cost= 0.2057449115048158\n",
      "Iteration No. 160  Cost= 0.195472312388166\n",
      "Iteration No. 180  Cost= 0.19389520289520132\n",
      "Iteration No. 200  Cost= 0.1933813334713627\n",
      "Iteration No. 220  Cost= 0.1933815527019204\n",
      "Iteration No. 240  Cost= 0.19338144655300304\n",
      "Iteration No. 260  Cost= 0.1933811401959375\n",
      "Iteration No. 280  Cost= 0.19338032963507665\n"
     ]
    }
   ],
   "source": [
    "ADAM_cost_array , w1, b1, w2, b2 = learning(num_iteration = 300 ,\\\n",
    "             data = training ,\\\n",
    "             learning_rate = 0.001 ,\\\n",
    "             optimizer = 'Adam', reg = False )"
   ]
  },
  {
   "cell_type": "code",
   "execution_count": 133,
   "id": "2e4546e7-ec99-4c83-a5c7-64fbdb919f00",
   "metadata": {},
   "outputs": [
    {
     "data": {
      "image/png": "[encoded data removed]",
      "text/plain": [
       "<Figure size 432x288 with 1 Axes>"
      ]
     },
     "metadata": {
      "needs_background": "light"
     },
     "output_type": "display_data"
    }
   ],
   "source": [
    "plot_cost(ADAM_cost_array)"
   ]
  },
  {
   "cell_type": "code",
   "execution_count": 134,
   "id": "fe28f603-a4f4-41bc-8e26-dc0a077f18ea",
   "metadata": {},
   "outputs": [
    {
     "name": "stdout",
     "output_type": "stream",
     "text": [
      "\n",
      "============== Results: ==============\n",
      "\n",
      "Accuracy of model was: %71.45\n",
      "\n",
      "f1 score of model was: %66.07\n",
      "\n"
     ]
    },
    {
     "data": {
      "text/plain": [
       "([('2608', 1, 1),\n",
       "  ('2765', 0, 1),\n",
       "  ('3776', 0, 0),\n",
       "  ('6048', 1, 1),\n",
       "  ('9846', 0, 1),\n",
       "  ('3415', 1, 1),\n",
       "  ('6881', 1, 1),\n",
       "  ('6375', 1, 1),\n",
       "  ('1141', 0, 0),\n",
       "  ('8311', 1, 0)],\n",
       " None)"
      ]
     },
     "execution_count": 134,
     "metadata": {},
     "output_type": "execute_result"
    }
   ],
   "source": [
    "test_pred = testing.map(lambda x: (x[0],int(x[1]),predict(x[2], w1, b1, w2, b2) ))\n",
    "test_pred.take(10), print_result(test_pred)  "
   ]
  },
  {
   "cell_type": "markdown",
   "id": "3e3cb5e6-44f0-4fd2-877c-2674f0b9570a",
   "metadata": {},
   "source": [
    "## Cost Comparison with SGD and Adam Optimizers"
   ]
  },
  {
   "cell_type": "code",
   "execution_count": 115,
   "id": "cf09daa9-663c-4ad4-b701-6104598bf234",
   "metadata": {},
   "outputs": [
    {
     "data": {
      "image/png": "[encoded data removed]",
      "text/plain": [
       "<Figure size 720x576 with 1 Axes>"
      ]
     },
     "metadata": {
      "needs_background": "light"
     },
     "output_type": "display_data"
    }
   ],
   "source": [
    "plot_cost_SGD_Adam( SGD_cost_array , ADAM_cost_array  , name='plot.png')"
   ]
  },
  {
   "cell_type": "code",
   "execution_count": 119,
   "id": "65ddcf09-514f-459b-99e3-21238b12b6dc",
   "metadata": {},
   "outputs": [
    {
     "data": {
      "image/png": "[encoded data removed]",
      "text/plain": [
       "<Figure size 720x576 with 1 Axes>"
      ]
     },
     "metadata": {
      "needs_background": "light"
     },
     "output_type": "display_data"
    }
   ],
   "source": [
    "plot_cost_SGD_Adam( SGD_cost_array , ADAM_cost_array  , name='plot.png')"
   ]
  },
  {
   "cell_type": "code",
   "execution_count": 136,
   "id": "f57318b4-b1c2-479c-bd31-707af819e813",
   "metadata": {},
   "outputs": [
    {
     "data": {
      "image/png": "[encoded data removed]",
      "text/plain": [
       "<Figure size 720x576 with 1 Axes>"
      ]
     },
     "metadata": {
      "needs_background": "light"
     },
     "output_type": "display_data"
    }
   ],
   "source": [
    "plot_cost_SGD_Adam( SGD_cost_array , ADAM_cost_array  , name='./images/plotSGD_ADAm.png')"
   ]
  },
  {
   "cell_type": "code",
   "execution_count": null,
   "id": "06f87bdd-4d00-4f25-a1d9-a609a0323377",
   "metadata": {
    "scrolled": true,
    "tags": []
   },
   "outputs": [],
   "source": [
    "!python RDD_NN.py './nlp-getting-started/train.csv' './out/NN_rdd'"
   ]
  },
  {
   "cell_type": "markdown",
   "id": "2e378359-88b8-4262-8439-b91f2c4143c3",
   "metadata": {},
   "source": [
    "============== Results: ==============\n",
    "\n",
    "Accuracy of model was: %71.10\n",
    "\n",
    "f1 score of model was: %66.56"
   ]
  }
 ],
 "metadata": {
  "kernelspec": {
   "display_name": "Python 3",
   "language": "python",
   "name": "python3"
  },
  "language_info": {
   "codemirror_mode": {
    "name": "ipython",
    "version": 3
   },
   "file_extension": ".py",
   "mimetype": "text/x-python",
   "name": "python",
   "nbconvert_exporter": "python",
   "pygments_lexer": "ipython3",
   "version": "3.8.8"
  }
 },
 "nbformat": 4,
 "nbformat_minor": 5
}
